{
 "cells": [
  {
   "cell_type": "markdown",
   "metadata": {},
   "source": [
    "Librerías y configuraciones"
   ]
  },
  {
   "cell_type": "code",
   "execution_count": 6,
   "metadata": {},
   "outputs": [],
   "source": [
    "import pandas as pd\n",
    "import numpy as np\n",
    "import matplotlib.pyplot as plt\n",
    "import seaborn as sns\n",
    "import ast\n",
    "\n",
    "# Establecer la opción para mostrar todas las columnas\n",
    "pd.set_option('display.max_columns', None)"
   ]
  },
  {
   "cell_type": "markdown",
   "metadata": {},
   "source": [
    "Carga de datos"
   ]
  },
  {
   "cell_type": "code",
   "execution_count": 7,
   "metadata": {},
   "outputs": [],
   "source": [
    "estrenos_por_dia_df = pd.read_csv('data\\data_processed\\estrenos_por_dia_df.csv',low_memory=False)\n",
    "estrenos_por_mes_df = pd.read_csv('data\\data_processed\\estrenos_por_mes_df.csv',low_memory=False)\n"
   ]
  },
  {
   "cell_type": "code",
   "execution_count": 8,
   "metadata": {},
   "outputs": [
    {
     "data": {
      "text/html": [
       "<div>\n",
       "<style scoped>\n",
       "    .dataframe tbody tr th:only-of-type {\n",
       "        vertical-align: middle;\n",
       "    }\n",
       "\n",
       "    .dataframe tbody tr th {\n",
       "        vertical-align: top;\n",
       "    }\n",
       "\n",
       "    .dataframe thead th {\n",
       "        text-align: right;\n",
       "    }\n",
       "</style>\n",
       "<table border=\"1\" class=\"dataframe\">\n",
       "  <thead>\n",
       "    <tr style=\"text-align: right;\">\n",
       "      <th></th>\n",
       "      <th>dia_de_estreno_nombre</th>\n",
       "      <th>cant_de_estrenos</th>\n",
       "    </tr>\n",
       "  </thead>\n",
       "  <tbody>\n",
       "    <tr>\n",
       "      <th>0</th>\n",
       "      <td>viernes</td>\n",
       "      <td>13696</td>\n",
       "    </tr>\n",
       "    <tr>\n",
       "      <th>1</th>\n",
       "      <td>jueves</td>\n",
       "      <td>7392</td>\n",
       "    </tr>\n",
       "    <tr>\n",
       "      <th>2</th>\n",
       "      <td>miércoles</td>\n",
       "      <td>6918</td>\n",
       "    </tr>\n",
       "    <tr>\n",
       "      <th>3</th>\n",
       "      <td>sábado</td>\n",
       "      <td>5090</td>\n",
       "    </tr>\n",
       "    <tr>\n",
       "      <th>4</th>\n",
       "      <td>martes</td>\n",
       "      <td>4570</td>\n",
       "    </tr>\n",
       "    <tr>\n",
       "      <th>5</th>\n",
       "      <td>domingo</td>\n",
       "      <td>3559</td>\n",
       "    </tr>\n",
       "    <tr>\n",
       "      <th>6</th>\n",
       "      <td>lunes</td>\n",
       "      <td>3442</td>\n",
       "    </tr>\n",
       "  </tbody>\n",
       "</table>\n",
       "</div>"
      ],
      "text/plain": [
       "  dia_de_estreno_nombre  cant_de_estrenos\n",
       "0               viernes             13696\n",
       "1                jueves              7392\n",
       "2             miércoles              6918\n",
       "3                sábado              5090\n",
       "4                martes              4570\n",
       "5               domingo              3559\n",
       "6                 lunes              3442"
      ]
     },
     "execution_count": 8,
     "metadata": {},
     "output_type": "execute_result"
    }
   ],
   "source": [
    "estrenos_por_dia_df"
   ]
  },
  {
   "cell_type": "code",
   "execution_count": 9,
   "metadata": {},
   "outputs": [
    {
     "data": {
      "text/html": [
       "<div>\n",
       "<style scoped>\n",
       "    .dataframe tbody tr th:only-of-type {\n",
       "        vertical-align: middle;\n",
       "    }\n",
       "\n",
       "    .dataframe tbody tr th {\n",
       "        vertical-align: top;\n",
       "    }\n",
       "\n",
       "    .dataframe thead th {\n",
       "        text-align: right;\n",
       "    }\n",
       "</style>\n",
       "<table border=\"1\" class=\"dataframe\">\n",
       "  <thead>\n",
       "    <tr style=\"text-align: right;\">\n",
       "      <th></th>\n",
       "      <th>mes_de_estreno_num</th>\n",
       "      <th>mes_de_estreno_nombre</th>\n",
       "      <th>cant_de_estrenos</th>\n",
       "    </tr>\n",
       "  </thead>\n",
       "  <tbody>\n",
       "    <tr>\n",
       "      <th>0</th>\n",
       "      <td>1</td>\n",
       "      <td>enero</td>\n",
       "      <td>5780</td>\n",
       "    </tr>\n",
       "    <tr>\n",
       "      <th>1</th>\n",
       "      <td>9</td>\n",
       "      <td>septiembre</td>\n",
       "      <td>4761</td>\n",
       "    </tr>\n",
       "    <tr>\n",
       "      <th>2</th>\n",
       "      <td>10</td>\n",
       "      <td>octubre</td>\n",
       "      <td>4547</td>\n",
       "    </tr>\n",
       "    <tr>\n",
       "      <th>3</th>\n",
       "      <td>12</td>\n",
       "      <td>diciembre</td>\n",
       "      <td>3718</td>\n",
       "    </tr>\n",
       "    <tr>\n",
       "      <th>4</th>\n",
       "      <td>11</td>\n",
       "      <td>noviembre</td>\n",
       "      <td>3609</td>\n",
       "    </tr>\n",
       "    <tr>\n",
       "      <th>5</th>\n",
       "      <td>3</td>\n",
       "      <td>marzo</td>\n",
       "      <td>3496</td>\n",
       "    </tr>\n",
       "    <tr>\n",
       "      <th>6</th>\n",
       "      <td>4</td>\n",
       "      <td>abril</td>\n",
       "      <td>3402</td>\n",
       "    </tr>\n",
       "    <tr>\n",
       "      <th>7</th>\n",
       "      <td>8</td>\n",
       "      <td>agosto</td>\n",
       "      <td>3340</td>\n",
       "    </tr>\n",
       "    <tr>\n",
       "      <th>8</th>\n",
       "      <td>5</td>\n",
       "      <td>mayo</td>\n",
       "      <td>3313</td>\n",
       "    </tr>\n",
       "    <tr>\n",
       "      <th>9</th>\n",
       "      <td>6</td>\n",
       "      <td>junio</td>\n",
       "      <td>3105</td>\n",
       "    </tr>\n",
       "    <tr>\n",
       "      <th>10</th>\n",
       "      <td>2</td>\n",
       "      <td>febrero</td>\n",
       "      <td>2982</td>\n",
       "    </tr>\n",
       "    <tr>\n",
       "      <th>11</th>\n",
       "      <td>7</td>\n",
       "      <td>julio</td>\n",
       "      <td>2614</td>\n",
       "    </tr>\n",
       "  </tbody>\n",
       "</table>\n",
       "</div>"
      ],
      "text/plain": [
       "    mes_de_estreno_num mes_de_estreno_nombre  cant_de_estrenos\n",
       "0                    1                 enero              5780\n",
       "1                    9            septiembre              4761\n",
       "2                   10               octubre              4547\n",
       "3                   12             diciembre              3718\n",
       "4                   11             noviembre              3609\n",
       "5                    3                 marzo              3496\n",
       "6                    4                 abril              3402\n",
       "7                    8                agosto              3340\n",
       "8                    5                  mayo              3313\n",
       "9                    6                 junio              3105\n",
       "10                   2               febrero              2982\n",
       "11                   7                 julio              2614"
      ]
     },
     "execution_count": 9,
     "metadata": {},
     "output_type": "execute_result"
    }
   ],
   "source": [
    "estrenos_por_mes_df"
   ]
  },
  {
   "cell_type": "code",
   "execution_count": 20,
   "metadata": {},
   "outputs": [
    {
     "name": "stdout",
     "output_type": "stream",
     "text": [
      "{'mes': 'lunes', 'cantidad': 3442}\n"
     ]
    }
   ],
   "source": [
    "# Convertimos el DataFrame a un diccionario para búsqueda rápida\n",
    "dia_dict = estrenos_por_dia_df.set_index('dia_de_estreno_nombre')['cant_de_estrenos'].to_dict()\n",
    "\n",
    "def peliculas_dia(dia_de_la_semana):\n",
    "    '''Se ingresa el mes y la funcion retorna la cantidad de peliculas que \n",
    "    se estrenaron ese mes (nombre del mes, en str, ejemplo 'enero') historicamente''' \n",
    "    \n",
    "    assert dia_de_la_semana in ['lunes','martes','miercoles','jueves', 'viernes', 'sabado', 'domingo'], f'Debe ingresar el nombre del día en español(sin tilde). Ej: \"miercoles\"'\n",
    "    \n",
    "    respuesta = dia_dict[dia_de_la_semana]\n",
    "    \n",
    "    return {'dia_de_la_semana': dia_de_la_semana, 'cantidad': respuesta}\n",
    "\n",
    "# Ejemplo de uso\n",
    "print(peliculas_dia('lunes'))"
   ]
  },
  {
   "cell_type": "code",
   "execution_count": 21,
   "metadata": {},
   "outputs": [
    {
     "name": "stdout",
     "output_type": "stream",
     "text": [
      "{'mes': 'octubre', 'cantidad': 4547}\n"
     ]
    }
   ],
   "source": [
    "# Convertimos el DataFrame a un diccionario para búsqueda rápida\n",
    "mes_dict = estrenos_por_mes_df.set_index('mes_de_estreno_nombre')['cant_de_estrenos'].to_dict()\n",
    "\n",
    "def peliculas_mes(mes):\n",
    "    '''Se ingresa el mes y la funcion retorna la cantidad de peliculas que \n",
    "    se estrenaron ese mes (nombre del mes, en str, ejemplo 'enero') historicamente''' \n",
    "    \n",
    "    respuesta = mes_dict[mes]\n",
    "    return {'mes': mes, 'cantidad': respuesta}\n",
    "\n",
    "# Ejemplo de uso\n",
    "print(peliculas_mes('octubre'))\n"
   ]
  }
 ],
 "metadata": {
  "kernelspec": {
   "display_name": "Python 3",
   "language": "python",
   "name": "python3"
  },
  "language_info": {
   "codemirror_mode": {
    "name": "ipython",
    "version": 3
   },
   "file_extension": ".py",
   "mimetype": "text/x-python",
   "name": "python",
   "nbconvert_exporter": "python",
   "pygments_lexer": "ipython3",
   "version": "3.11.0"
  }
 },
 "nbformat": 4,
 "nbformat_minor": 2
}
